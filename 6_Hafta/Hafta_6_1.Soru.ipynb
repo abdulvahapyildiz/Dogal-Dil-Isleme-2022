{
 "cells": [
  {
   "cell_type": "code",
   "execution_count": 6,
   "id": "e54fb313-750d-401f-8b45-d307663f32cd",
   "metadata": {},
   "outputs": [
    {
     "name": "stdin",
     "output_type": "stream",
     "text": [
      "E-Postanızı Yazınız:  ayildiz@beu.edu.tr\n"
     ]
    },
    {
     "name": "stdout",
     "output_type": "stream",
     "text": [
      "E-Postanız:  ayildiz@beu.edu.tr\n",
      "Kullanıcı Adınız: ayildiz\n",
      "Domain Adı: beu.edu.tr\n"
     ]
    }
   ],
   "source": [
    "import re\n",
    "\n",
    "eposta = input(\"E-Postanızı Yazınız: \")\n",
    "print(\"E-Postanız: \", eposta)\n",
    "desen = \"(?P<user>[\\w\\.-]+)@(?P<domain>[\\w\\.-]+)\" \n",
    "gruplandirici = re.search(desen, eposta)\n",
    " \n",
    "print(\"Kullanıcı Adınız: \" + gruplandirici.group(\"user\"))\n",
    "print(\"Domain Adı: \" + gruplandirici.group(\"domain\"))\n",
    "\n"
   ]
  },
  {
   "cell_type": "code",
   "execution_count": null,
   "id": "092468b4-90ba-496b-a0f7-14f34eb7222f",
   "metadata": {},
   "outputs": [],
   "source": []
  }
 ],
 "metadata": {
  "kernelspec": {
   "display_name": "Python 3 (ipykernel)",
   "language": "python",
   "name": "python3"
  },
  "language_info": {
   "codemirror_mode": {
    "name": "ipython",
    "version": 3
   },
   "file_extension": ".py",
   "mimetype": "text/x-python",
   "name": "python",
   "nbconvert_exporter": "python",
   "pygments_lexer": "ipython3",
   "version": "3.10.8"
  }
 },
 "nbformat": 4,
 "nbformat_minor": 5
}
