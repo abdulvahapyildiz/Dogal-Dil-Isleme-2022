{
 "cells": [
  {
   "cell_type": "code",
   "execution_count": 109,
   "id": "0efabf47-d4fb-4188-9bcc-41f74697655d",
   "metadata": {},
   "outputs": [
    {
     "name": "stdin",
     "output_type": "stream",
     "text": [
      "1. Adı Giriniz (Ayşe giriniz):  Ayşe\n",
      "2. Adı Giriniz:  Ahmet\n",
      "3. Adı Giriniz:  Murat\n",
      "4. Adı Giriniz:  Selma\n",
      "5. Adı Giriniz:  Yağız\n"
     ]
    },
    {
     "name": "stdout",
     "output_type": "stream",
     "text": [
      "\n",
      "Girdiğiniz İsimler:  Ayşe Ahmet Murat Selma Yağız\n",
      "\n",
      "Düzene Uyan İsimler: \n",
      "Ayşe\n",
      "Ahmet\n",
      "Selma\n"
     ]
    }
   ],
   "source": [
    "import re\n",
    "\n",
    "liste1 = input(\"1. Adı Giriniz (Ayşe giriniz): \")\n",
    "liste2 = input(\"2. Adı Giriniz: \")\n",
    "liste3 = input(\"3. Adı Giriniz: \")\n",
    "liste4 = input(\"4. Adı Giriniz: \")\n",
    "liste5 = input(\"5. Adı Giriniz: \")\n",
    "\n",
    "print(\"\\nGirdiğiniz İsimler: \", liste1, liste2, liste3, liste4, liste5)\n",
    "print(\"\\nDüzene Uyan İsimler: \")\n",
    "\n",
    "\n",
    "for i in liste1, liste2, liste3, liste4, liste5:\n",
    "    if re.match(\".*e\" or \"A[a-z]*\", i):\n",
    "        print(i)"
   ]
  },
  {
   "cell_type": "code",
   "execution_count": null,
   "id": "1b8d4cac-6c98-449c-9e21-6f4ae9d49613",
   "metadata": {},
   "outputs": [],
   "source": []
  }
 ],
 "metadata": {
  "kernelspec": {
   "display_name": "Python 3 (ipykernel)",
   "language": "python",
   "name": "python3"
  },
  "language_info": {
   "codemirror_mode": {
    "name": "ipython",
    "version": 3
   },
   "file_extension": ".py",
   "mimetype": "text/x-python",
   "name": "python",
   "nbconvert_exporter": "python",
   "pygments_lexer": "ipython3",
   "version": "3.10.8"
  }
 },
 "nbformat": 4,
 "nbformat_minor": 5
}
